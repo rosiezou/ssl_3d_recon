{
  "nbformat": 4,
  "nbformat_minor": 0,
  "metadata": {
    "colab": {
      "name": "SSL python2 proto.ipynb",
      "provenance": [],
      "collapsed_sections": [],
      "include_colab_link": true
    },
    "kernelspec": {
      "name": "python2",
      "display_name": "Python 2"
    },
    "accelerator": "GPU"
  },
  "cells": [
    {
      "cell_type": "markdown",
      "metadata": {
        "id": "view-in-github",
        "colab_type": "text"
      },
      "source": [
        "<a href=\"https://colab.research.google.com/github/rosiezou/ssl_3d_recon/blob/master/SSL_python2_proto.ipynb\" target=\"_parent\"><img src=\"https://colab.research.google.com/assets/colab-badge.svg\" alt=\"Open In Colab\"/></a>"
      ]
    },
    {
      "cell_type": "markdown",
      "metadata": {
        "id": "tUtcNlCJvQLW"
      },
      "source": [
        "This notebook contains the entire environment setup needed to run \n",
        "https://github.com/rosiezou/ssl_3d_recon in Google collab and/or AWS"
      ]
    },
    {
      "cell_type": "code",
      "metadata": {
        "id": "JSiT1GxZcn3b"
      },
      "source": [
        "ls /usr/local/cuda-8.0/"
      ],
      "execution_count": null,
      "outputs": []
    },
    {
      "cell_type": "code",
      "metadata": {
        "id": "vZAVZiPHlaEm"
      },
      "source": [
        "# Check pyton requirements\n",
        "! python --version"
      ],
      "execution_count": null,
      "outputs": []
    },
    {
      "cell_type": "code",
      "metadata": {
        "id": "g5_Uw5V5lgwJ"
      },
      "source": [
        "# Sanity check GPU and cuda version\n",
        "!nvidia-smi\n",
        "\n",
        "!nvcc --version"
      ],
      "execution_count": null,
      "outputs": []
    },
    {
      "cell_type": "code",
      "metadata": {
        "id": "FK5eJe5llzVj"
      },
      "source": [
        "# Remove the version of CUDA installed on the machine\n",
        "!apt-get --purge remove cuda* nvidia* libnvidia-*\n",
        "# Steps below in this cell, may fail on AWS. That should be okay.\n",
        "!dpkg -l | grep cuda- | awk '{print $2}' | xargs -n1 dpkg --purge\n",
        "!s\n",
        "!apt autoremove\n",
        "!apt-get update"
      ],
      "execution_count": null,
      "outputs": []
    },
    {
      "cell_type": "code",
      "metadata": {
        "id": "UZvk_KW0l8ot"
      },
      "source": [
        "# Install CUDA 8\n",
        "!wget https://developer.download.nvidia.com/compute/cuda/repos/ubuntu1604/x86_64/cuda-repo-ubuntu1604_8.0.61-1_amd64.deb\n",
        "!dpkg -i --force-overwrite cuda-repo-ubuntu1604_8.0.61-1_amd64.deb\n",
        "!apt-get update\n",
        "!apt-get install cuda-8-0"
      ],
      "execution_count": null,
      "outputs": []
    },
    {
      "cell_type": "code",
      "metadata": {
        "id": "B9jyJHaZmA7P"
      },
      "source": [
        "# install will fail, need to force dpkg to overwrite the configuration file\n",
        "\n",
        "# Note: Skip this cell for AWS. Not needed.\n",
        "\n",
        "!wget http://archive.ubuntu.com/ubuntu/pool/main/m/mesa/libglx-mesa0_18.0.5-0ubuntu0~18.04.1_amd64.deb\n",
        "!dpkg -i --force-overwrite libglx-mesa0_18.0.5-0ubuntu0~18.04.1_amd64.deb\n",
        "\n",
        "!wget http://developer.download.nvidia.com/compute/cuda/repos/ubuntu1604/x86_64/nvidia-410_410.48-0ubuntu1_amd64.deb\n",
        "!dpkg -i --force-overwrite nvidia-410_410.48-0ubuntu1_amd64.deb\n",
        "\n",
        "!apt --fix-broken install\n",
        "!apt-get install cuda-8-0"
      ],
      "execution_count": null,
      "outputs": []
    },
    {
      "cell_type": "code",
      "metadata": {
        "id": "1By45HOymKov"
      },
      "source": [
        "# Sanity check if the correct version of cuda is installed now.\n",
        "!nvcc --version"
      ],
      "execution_count": null,
      "outputs": []
    },
    {
      "cell_type": "code",
      "metadata": {
        "id": "xyc2ujYNmNQx"
      },
      "source": [
        "# Experimental install of tensorflow 1.13\n",
        "! pip install tensorflow==1.13.2\n",
        "\n",
        "# Make sure that tensorflow is working\n",
        "import tensorflow as tf\n",
        "print(tf.sysconfig.get_lib())"
      ],
      "execution_count": null,
      "outputs": []
    },
    {
      "cell_type": "code",
      "metadata": {
        "id": "o9GNDd_zxEDo"
      },
      "source": [
        "# Missing module! :|\n",
        "! pip install tflearn"
      ],
      "execution_count": null,
      "outputs": []
    },
    {
      "cell_type": "code",
      "metadata": {
        "id": "LnH1TsO9mQEJ"
      },
      "source": [
        "# Downgrade GNU to a CUDA compatible version\n",
        "\n",
        "# Note: Skip this cell for AWS. Not needed.\n",
        "\n",
        "! apt install g++-4.8\n",
        "\n",
        "! update-alternatives --install /usr/bin/gcc gcc /usr/bin/gcc-7 60 --slave /usr/bin/g++ g++ /usr/bin/g++-7\n",
        "! update-alternatives --install /usr/bin/gcc gcc /usr/bin/gcc-4.8 50 --slave /usr/bin/g++ g++ /usr/bin/g++-4.8\n",
        "\n",
        "# List available compilers\n",
        "! update-alternatives --list gcc\n",
        "\n",
        "# Set gcc 4.x as default\n",
        "!update-alternatives --set gcc /usr/bin/gcc-4.8"
      ],
      "execution_count": null,
      "outputs": []
    },
    {
      "cell_type": "code",
      "metadata": {
        "id": "eSn-zjMbmUcj"
      },
      "source": [
        "# git repo clone\n",
        "# Original author repository\n",
        "! git clone https://github.com/klnavaneet/ssl_3d_recon.git\n",
        "\n",
        "# OR Forked version of the repository with changes made to actually make the code work on collab.\n",
        "! git clone https://github.com/rosiezou/ssl_3d_recon.git\n",
        "\n",
        "# In order to run this on AWS, make sure to add the flag for -D_GLIBCXX_USE_CXX11_ABI=0 back in makefile as on https://github.com/klnavaneet/ssl_3d_recon/blob/master/makefile\n",
        "# AWS runs with a GNU version  > 4.9. This flag will be needed in that case. Still relies on the extra tensorflow and cuda library paths provided in the custom makefile from "
      ],
      "execution_count": null,
      "outputs": []
    },
    {
      "cell_type": "code",
      "metadata": {
        "id": "9u7HBd4FmZ1E"
      },
      "source": [
        "# Makefile\n",
        "# Note: Makefile should be inside src. Place it over there if it's not there.\n",
        "# Also: Makefile and the shell scripts within chamfer_utils have been changed. Use the ones uploaded\n",
        "# on the drive (For collab only).\n",
        "# Makefile used on AWS will be different.\n",
        "% cd /content/ssl_3d_recon/src\n",
        "! make clean\n",
        "\n",
        "! make"
      ],
      "execution_count": null,
      "outputs": []
    },
    {
      "cell_type": "code",
      "metadata": {
        "id": "eBUpSj24tnp8"
      },
      "source": [
        "# Mount google drive to connect to the training data\n",
        "# from google.colab import drive\n",
        "# drive.mount('/content/drive')"
      ],
      "execution_count": null,
      "outputs": []
    },
    {
      "cell_type": "markdown",
      "metadata": {
        "id": "iWYmmQhdxWwU"
      },
      "source": [
        "The steps below should be used for training the model on collab. This works as long as the training data is uploaded to my google drive. :)"
      ]
    },
    {
      "cell_type": "code",
      "metadata": {
        "id": "KpbkwJVxmaJH"
      },
      "source": [
        "# Following the steps in  https://github.com/klnavaneet/ssl_3d_recon/blob/master/README.md after running \"make\"\n",
        "\n",
        "# % cd /content/ssl_3d_recon/src/utils/\n",
        "# !pwd\n",
        "# Note: The path to test data may point to my google drive folder for prototyping. Make sure the python script contains the right path.\n",
        "# Create tfrecords file for OURS-CC model\n",
        "# ! python create_tf_records.py"
      ],
      "execution_count": null,
      "outputs": []
    },
    {
      "cell_type": "code",
      "metadata": {
        "id": "6dmRSwzZoEGH"
      },
      "source": [
        "# Create tfrecords file for OURS-NN model\n",
        "# ! python create_tf_records_knn.py"
      ],
      "execution_count": null,
      "outputs": []
    },
    {
      "cell_type": "code",
      "metadata": {
        "id": "s1gUB-GZ6j69"
      },
      "source": [
        "# Try training if possible\n",
        "# % cd /content/ssl_3d_recon/\n",
        "# ! bash run.sh"
      ],
      "execution_count": null,
      "outputs": []
    }
  ]
}