{
 "cells": [
  {
   "cell_type": "code",
   "execution_count": 4,
   "id": "heated-concert",
   "metadata": {},
   "outputs": [
    {
     "name": "stdout",
     "output_type": "stream",
     "text": [
      "The autoreload extension is already loaded. To reload it, use:\n",
      "  %reload_ext autoreload\n"
     ]
    }
   ],
   "source": [
    "%load_ext autoreload"
   ]
  },
  {
   "cell_type": "code",
   "execution_count": 5,
   "id": "smart-cologne",
   "metadata": {},
   "outputs": [
    {
     "ename": "ImportError",
     "evalue": "No module named 'shapenet_taxonomy'",
     "output_type": "error",
     "traceback": [
      "\u001b[0;31m---------------------------------------------------------------------------\u001b[0m",
      "\u001b[0;31mImportError\u001b[0m                               Traceback (most recent call last)",
      "\u001b[0;32m<ipython-input-5-266e4a9981b2>\u001b[0m in \u001b[0;36m<module>\u001b[0;34m\u001b[0m\n\u001b[1;32m     16\u001b[0m \u001b[0;34m\u001b[0m\u001b[0m\n\u001b[1;32m     17\u001b[0m \u001b[0;32mimport\u001b[0m \u001b[0mctypes\u001b[0m \u001b[0;32mas\u001b[0m \u001b[0mct\u001b[0m\u001b[0;34m\u001b[0m\u001b[0m\n\u001b[0;32m---> 18\u001b[0;31m \u001b[0;32mfrom\u001b[0m \u001b[0mshapenet_taxonomy\u001b[0m \u001b[0;32mimport\u001b[0m \u001b[0mshapenet_category_to_id\u001b[0m\u001b[0;34m\u001b[0m\u001b[0m\n\u001b[0m",
      "\u001b[0;31mImportError\u001b[0m: No module named 'shapenet_taxonomy'"
     ]
    }
   ],
   "source": [
    "%autoreload 2\n",
    "\n",
    "import os, sys\n",
    "from os.path import join, abspath\n",
    "import time\n",
    "import pdb\n",
    "import glob\n",
    "\n",
    "import numpy as np\n",
    "from sklearn.manifold import TSNE\n",
    "import matplotlib.pyplot as plt\n",
    "import matplotlib.cm as cm\n",
    "import scipy.misc as sc\n",
    "from multiprocessing import Pool\n",
    "import cv2\n",
    "\n",
    "import ctypes as ct\n"
   ]
  },
  {
   "cell_type": "code",
   "execution_count": 7,
   "id": "affecting-editor",
   "metadata": {},
   "outputs": [],
   "source": [
    "sys.path.append('../utils')\n",
    "sys.path.append('../chamfer_utils')"
   ]
  },
  {
   "cell_type": "code",
   "execution_count": 10,
   "id": "frank-tanzania",
   "metadata": {},
   "outputs": [],
   "source": [
    "from helper_funcs import create_folder, remove_outliers\n",
    "from shapenet_taxonomy import shapenet_category_to_id"
   ]
  },
  {
   "cell_type": "code",
   "execution_count": null,
   "id": "valued-track",
   "metadata": {},
   "outputs": [],
   "source": []
  }
 ],
 "metadata": {
  "kernelspec": {
   "display_name": "Python 2",
   "language": "python",
   "name": "python2"
  },
  "language_info": {
   "codemirror_mode": {
    "name": "ipython",
    "version": 3
   },
   "file_extension": ".py",
   "mimetype": "text/x-python",
   "name": "python",
   "nbconvert_exporter": "python",
   "pygments_lexer": "ipython3",
   "version": "3.5.2"
  }
 },
 "nbformat": 4,
 "nbformat_minor": 5
}
