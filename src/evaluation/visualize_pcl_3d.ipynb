{
 "cells": [
  {
   "cell_type": "code",
   "execution_count": null,
   "id": "heated-concert",
   "metadata": {},
   "outputs": [],
   "source": [
    "%load_ext autoreload"
   ]
  },
  {
   "cell_type": "code",
   "execution_count": null,
   "id": "smart-cologne",
   "metadata": {},
   "outputs": [],
   "source": [
    "%autoreload 2\n",
    "\n",
    "import os, sys\n",
    "from os.path import join, abspath\n",
    "import time\n",
    "import pdb\n",
    "import glob\n",
    "\n",
    "import numpy as np\n",
    "from sklearn.manifold import TSNE\n",
    "import matplotlib.pyplot as plt\n",
    "import matplotlib.cm as cm\n",
    "import skimage.filters\n",
    "import skimage.io\n",
    "\n",
    "from PIL import  Image\n",
    "from multiprocessing import Pool\n",
    "import cv2\n",
    "\n",
    "import ctypes as ct\n",
    "\n",
    "import plotly.graph_objects as go"
   ]
  },
  {
   "cell_type": "code",
   "execution_count": null,
   "id": "affecting-editor",
   "metadata": {},
   "outputs": [],
   "source": [
    "sys.path.append('../utils')\n",
    "sys.path.append('../chamfer_utils')"
   ]
  },
  {
   "cell_type": "code",
   "execution_count": null,
   "id": "frank-tanzania",
   "metadata": {},
   "outputs": [],
   "source": [
    "# from helper_funcs import create_folder, remove_outliers\n",
    "from shapenet_taxonomy import shapenet_category_to_id"
   ]
  },
  {
   "cell_type": "code",
   "execution_count": null,
   "id": "yellow-airplane",
   "metadata": {},
   "outputs": [],
   "source": [
    "exp_dir = '/home/ubuntu/ssl_3d_recon/expts_chair'\n",
    "log_dir = join(exp_dir, 'log_proj_pcl_disp_test')\n",
    "categ = 'car'\n",
    "categ = shapenet_category_to_id[categ]\n",
    "\n",
    "pcl_data_dir = '/home/ubuntu/ssl_3d_recon/data/ShapeNet_v1/%s'%(categ)\n",
    "data_dir = '/home/ubuntu/ssl_3d_recon/data/ShapeNet_rendered/%s'%(categ)\n",
    "mode = 'test'\n",
    "models = sorted(np.load('/home/ubuntu/ssl_3d_recon/splits/images_list_%s_%s.npy'%(categ, mode), allow_pickle=True))\n",
    "\n",
    "names = sorted(glob.glob(join(log_dir, '*.npy')))"
   ]
  },
  {
   "cell_type": "code",
   "execution_count": null,
   "id": "permanent-license",
   "metadata": {},
   "outputs": [],
   "source": [
    "def remove_outliers(pcl, min_val=-.5, max_val=0.5):\n",
    "    '''\n",
    "    Remove outlier points in pcl and replace with existing points --> used only\n",
    "    during visualization, SHOULD NOT be used during metric calculation\n",
    "    Args:\n",
    "            pcl: float, (BS,N_PTS,3); input point cloud with outliers\n",
    "            min_val, max_val: float, (); minimum and maximum value of the\n",
    "                        co-ordinates, beyond which point is treated as outlier\n",
    "    Returns:\n",
    "            pcl: float, (BS,N_PTS,3); cleaned point cloud\n",
    "    '''\n",
    "    pcl_clip = np.clip(pcl, min_val, max_val)\n",
    "    indices = np.equal(pcl, pcl_clip)\n",
    "    ind, _ = np.where(indices!=True)\n",
    "    pcl[ind] = pcl[0]\n",
    "    return pcl"
   ]
  },
  {
   "cell_type": "code",
   "execution_count": null,
   "id": "australian-particle",
   "metadata": {},
   "outputs": [],
   "source": [
    "# Make temporary data directories in /home/ubuntu/ssl_3d_recon\n",
    "# Note: We do not have X server so cannot display images machine remotely on the VM.\n",
    "# Going to put them temporarily in an output directory as below and then scp the images to view them locally.\n",
    "import os\n",
    "pcl_viz_dirs = ['images', 'pcl']\n",
    "for dir_name in pcl_viz_dirs:\n",
    "    os.makedirs('/home/ubuntu/ssl_3d_recon/VIZ/%s'%(dir_name), exist_ok=True)\n",
    "\n",
    "output_img_base_path = '/home/ubuntu/ssl_3d_recon/VIZ/images'"
   ]
  },
  {
   "cell_type": "code",
   "execution_count": null,
   "id": "greenhouse-department",
   "metadata": {},
   "outputs": [],
   "source": [
    "def get_pcl(pcl_data):\n",
    "    x = pcl_data[:, 0]\n",
    "    y = pcl_data[:, 1]\n",
    "    z = pcl_data[:, 2]\n",
    "    return x, y, z"
   ]
  },
  {
   "cell_type": "code",
   "execution_count": null,
   "id": "right-simulation",
   "metadata": {},
   "outputs": [],
   "source": [
    "def showpoints(xyz, c0=None, c1=None, c2=None, waittime=0, showrot=False,\n",
    "               magnifyBlue=0, freezerot=False, background=(0,0,0), normalizecolor=True,\n",
    "               ballradius=10):\n",
    "    # xyz=xyz-xyz.mean(axis=0)\n",
    "    radius=((xyz**2).sum(axis=-1)**0.5).max()\n",
    "    xyz/=(radius*2.2)\n",
    "    if c0 is None:\n",
    "        c0=np.zeros((len(xyz),),dtype='float32')+255\n",
    "    if c1 is None:\n",
    "        c1=c0\n",
    "    if c2 is None:\n",
    "        c2=c0\n",
    "    if normalizecolor:\n",
    "        c0/=(c0.max()+1e-14)/255.0\n",
    "        c1/=(c1.max()+1e-14)/255.0\n",
    "        c2/=(c2.max()+1e-14)/255.0\n",
    "    c0=np.require(c0,'float32','C')\n",
    "    c1=np.require(c1,'float32','C')\n",
    "    c2=np.require(c2,'float32','C')\n",
    "    \n",
    "    "
   ]
  },
  {
   "cell_type": "code",
   "execution_count": null,
   "id": "dynamic-input",
   "metadata": {},
   "outputs": [],
   "source": [
    "n_plots = 100\n",
    "\n",
    "\n",
    "def viz_pcl(ballradius=3):\n",
    "    '''\n",
    "    Save the input image, GT and predicted point cloud\n",
    "    '''\n",
    "    num_images = 0\n",
    "    for idx in range(n_plots):\n",
    "        img_name, img_id = models[idx][0].split('_')\n",
    "\n",
    "        # Load the gt and pred point clouds\n",
    "        gt_path = join(pcl_data_dir, img_name, 'pointcloud_1024.npy')\n",
    "        print('GT path: ', gt_path)\n",
    "        gt_pcl = np.load(gt_path)\n",
    "        \n",
    "        pcl = np.load(names[idx])[:,:3]\n",
    "#         pcl = remove_outliers(pcl)\n",
    "\n",
    "        # Load and display input image\n",
    "        image_path = join(data_dir, img_name,'render_%s.png'%(img_id))\n",
    "        if not os.path.exists(image_path):\n",
    "            continue\n",
    "        ip_img = skimage.io.imread(image_path)\n",
    "        num_images+=1\n",
    "\n",
    "        # RGB to BGR for cv2.\n",
    "        ip_img = np.flip(ip_img[:,:,:3], -1)\n",
    "        output_img_path = join('%s/%s_%s.png')%(output_img_base_path, img_name, img_id)\n",
    "        Image.fromarray(np.uint8(ip_img)).save(output_img_path)\n",
    "        \n",
    "        # Save pointclouds\n",
    "        gt_pcl_data = get_pcl(gt_pcl)\n",
    "        eval_pcl_data = get_pcl(pcl)\n",
    "        \n",
    "        # Plot pointclouds\n",
    "        plotting_pointcloud = np.array(pcl).T\n",
    "        fig = go.Figure(data=[go.Scatter3d(x=plotting_pointcloud[0], y=plotting_pointcloud[1], z=plotting_pointcloud[2],\n",
    "                                   mode='markers', marker=dict(size=1))])\n",
    "        fig.show()\n",
    "        \n",
    "\n",
    "    print('Num test images that do exist: ', num_images)\n",
    "\n",
    "#     showpoints(gt_pcl, ballradius=ballradius)\n",
    "#     showpoints(pcl, ballradius=ballradius)\n",
    "        # saveBool = show3d_balls.showtwopoints(gt_pcl, pcl, ballradius=ballradius)"
   ]
  },
  {
   "cell_type": "code",
   "execution_count": null,
   "id": "separate-infrastructure",
   "metadata": {
    "scrolled": false
   },
   "outputs": [],
   "source": [
    "viz_pcl()"
   ]
  },
  {
   "cell_type": "code",
   "execution_count": null,
   "id": "proof-cathedral",
   "metadata": {},
   "outputs": [],
   "source": []
  }
 ],
 "metadata": {
  "kernelspec": {
   "display_name": "Python 2",
   "language": "python",
   "name": "python2"
  },
  "language_info": {
   "codemirror_mode": {
    "name": "ipython",
    "version": 3
   },
   "file_extension": ".py",
   "mimetype": "text/x-python",
   "name": "python",
   "nbconvert_exporter": "python",
   "pygments_lexer": "ipython3",
   "version": "3.5.2"
  }
 },
 "nbformat": 4,
 "nbformat_minor": 5
}
